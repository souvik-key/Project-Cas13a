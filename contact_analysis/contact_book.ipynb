{
 "cells": [
  {
   "cell_type": "code",
   "execution_count": 1,
   "id": "65d3414b",
   "metadata": {},
   "outputs": [
    {
     "data": {
      "text/plain": [
       "<Figure size 360x504 with 0 Axes>"
      ]
     },
     "metadata": {},
     "output_type": "display_data"
    }
   ],
   "source": [
    "import subprocess as sp\n",
    "import numpy as np\n",
    "import warnings\n",
    "warnings.filterwarnings(\"ignore\", category=DeprecationWarning)\n",
    "import sys, os\n",
    "import signal\n",
    "import matplotlib.pyplot as plt\n",
    "import pandas as pd\n",
    "import seaborn as sb\n",
    "from matplotlib import colors\n",
    "from IPython.display import set_matplotlib_formats\n",
    "%matplotlib inline\n",
    "set_matplotlib_formats('png')\n",
    "plt.figure(figsize=(5,7))\n",
    "import ipywidgets as widgets"
   ]
  },
  {
   "cell_type": "markdown",
   "id": "8b7a6627",
   "metadata": {},
   "source": [
    "## Running VMD\n",
    "### Collect inputs for running  VMD"
   ]
  },
  {
   "cell_type": "markdown",
   "id": "46ff91ca",
   "metadata": {},
   "source": [
    "This section first collect inputs to run VMD job that calculates the contact data. \n",
    "<br>1. Working directory: Directory that contains toppar and trajectory (*.dcd) files. Output will also be written in this directory.\n",
    "<br>2. Name of toppar and dcd files (with extension)\n",
    "<br>3. Two selection between which the contacts will get calculated. If the selctions are same, all intra-selection contacts will be calculated.\n",
    "<br>4. Cutoff in Angstrom for finding contacts\n",
    "<br>5. Location of Required tcl scripts: vmd_contact.tcl, bigdcd.tcl [these files will be copied to the working directory]\n",
    "<br>6. Full path to the vmd executable"
   ]
  },
  {
   "cell_type": "code",
   "execution_count": 125,
   "id": "536c2d34",
   "metadata": {
    "scrolled": true
   },
   "outputs": [
    {
     "name": "stdout",
     "output_type": "stream",
     "text": [
      "After input, press return in any field\n"
     ]
    },
    {
     "data": {
      "application/vnd.jupyter.widget-view+json": {
       "model_id": "4cbc33484df445ff86fe1e2c84e49e13",
       "version_major": 2,
       "version_minor": 0
      },
      "text/plain": [
       "Text(value='/../../../', description='Working Dir:', layout=Layout(height='40px', width='auto'))"
      ]
     },
     "metadata": {},
     "output_type": "display_data"
    },
    {
     "data": {
      "application/vnd.jupyter.widget-view+json": {
       "model_id": "27c3c0ce9ddc4f9e845b402b2938b10a",
       "version_major": 2,
       "version_minor": 0
      },
      "text/plain": [
       "Text(value='*.prmtop or *.psf', description='Toppar file:', layout=Layout(height='40px', width='auto'))"
      ]
     },
     "metadata": {},
     "output_type": "display_data"
    },
    {
     "data": {
      "application/vnd.jupyter.widget-view+json": {
       "model_id": "fbd3562d1e3f4c13a74c4333f10302cf",
       "version_major": 2,
       "version_minor": 0
      },
      "text/plain": [
       "Text(value='*.dcd', description='Traj:', layout=Layout(height='40px', width='auto'))"
      ]
     },
     "metadata": {},
     "output_type": "display_data"
    },
    {
     "data": {
      "application/vnd.jupyter.widget-view+json": {
       "model_id": "f4fa0fd80bf442198882b3589d9422c0",
       "version_major": 2,
       "version_minor": 0
      },
      "text/plain": [
       "Text(value='all and noh', description='selection-1:', layout=Layout(height='40px', width='auto'))"
      ]
     },
     "metadata": {},
     "output_type": "display_data"
    },
    {
     "data": {
      "application/vnd.jupyter.widget-view+json": {
       "model_id": "b3582e25ca4f40e090bece3c8d79459e",
       "version_major": 2,
       "version_minor": 0
      },
      "text/plain": [
       "Text(value='all and noh', description='selection-2:', layout=Layout(height='40px', width='auto'))"
      ]
     },
     "metadata": {},
     "output_type": "display_data"
    },
    {
     "data": {
      "application/vnd.jupyter.widget-view+json": {
       "model_id": "a515ca1f5f2542c0b676f12f58d7a58e",
       "version_major": 2,
       "version_minor": 0
      },
      "text/plain": [
       "Text(value='4.5', description='Cutoff (A):', layout=Layout(height='40px', width='auto'))"
      ]
     },
     "metadata": {},
     "output_type": "display_data"
    },
    {
     "data": {
      "application/vnd.jupyter.widget-view+json": {
       "model_id": "734673496ef3452190d5d78d3a7ca895",
       "version_major": 2,
       "version_minor": 0
      },
      "text/plain": [
       "Text(value='path to tcl files (bigdcd.tcl and vmd_contact.tcl)', description='Tcl path:', layout=Layout(height…"
      ]
     },
     "metadata": {},
     "output_type": "display_data"
    },
    {
     "data": {
      "application/vnd.jupyter.widget-view+json": {
       "model_id": "acdd1c345e904b9686ecc20ab0dc75ee",
       "version_major": 2,
       "version_minor": 0
      },
      "text/plain": [
       "Text(value='full path to vmd executable', description='VMD path:', layout=Layout(height='40px', width='auto'))"
      ]
     },
     "metadata": {},
     "output_type": "display_data"
    }
   ],
   "source": [
    "class data_input():\n",
    "    def __init__(self, \n",
    "                 pwd = \"/../../../\", \n",
    "                 top = \"*.prmtop or *.psf\", \n",
    "                 dcd = \"*.dcd\",\n",
    "                 sele1 = \"all and noh\",\n",
    "                 sele2 = \"all and noh\",\n",
    "                 cutoff = \"4.5\",\n",
    "                 tcl_loc = \"path to tcl files (bigdcd.tcl and vmd_contact.tcl)\",\n",
    "                 vmd_path = \"full path to vmd executable\"\n",
    "                ):\n",
    "        layout = widgets.Layout(width='auto', height='40px') #set width and height\n",
    "        self.pwd = widgets.Text(description = 'Working Dir:',value = pwd, layout = layout)\n",
    "        self.top = widgets.Text(description = 'Toppar file:',value = top, layout = layout)\n",
    "        self.dcd = widgets.Text(description = 'Traj:',value = dcd, layout = layout) \n",
    "        self.sele1 = widgets.Text(description = 'selection-1:',value = sele1, layout = layout) \n",
    "        self.sele2 = widgets.Text(description = 'selection-2:',value = sele2, layout = layout)\n",
    "        self.cutoff = widgets.Text(description = 'Cutoff (A):',value = cutoff, layout = layout)\n",
    "        self.tcl_loc = widgets.Text(description = 'Tcl path:',value = tcl_loc, layout = layout)\n",
    "        self.vmd_path = widgets.Text(description = 'VMD path:',value = vmd_path, layout = layout)\n",
    "        self.pwd.on_submit(self.handle_submit)\n",
    "        self.top.on_submit(self.handle_submit)\n",
    "        self.dcd.on_submit(self.handle_submit)\n",
    "        self.sele1.on_submit(self.handle_submit)\n",
    "        self.sele2.on_submit(self.handle_submit)\n",
    "        self.cutoff.on_submit(self.handle_submit)\n",
    "        self.tcl_loc.on_submit(self.handle_submit)\n",
    "        self.vmd_path.on_submit(self.handle_submit)\n",
    "        display(self.pwd, self.top, self.dcd, self.sele1, self.sele2, self.cutoff, self.tcl_loc, self.vmd_path)\n",
    "\n",
    "    def handle_submit(self, text):\n",
    "        self.v = text.value\n",
    "        return self.v\n",
    "\n",
    "print(\"After input, press return in any field\")\n",
    "f = data_input()"
   ]
  },
  {
   "cell_type": "markdown",
   "id": "4349ea5c",
   "metadata": {},
   "source": [
    "#### Set path for the tcl files and copy to the working directory . . ."
   ]
  },
  {
   "cell_type": "code",
   "execution_count": 126,
   "id": "c78d1e03",
   "metadata": {
    "scrolled": true
   },
   "outputs": [
    {
     "name": "stdout",
     "output_type": "stream",
     "text": [
      "/Users/souviksinha/Desktop/Palermo_Lab/LabWork/Project_Cas13a/LbuCas13a-crRNA-target/run/*.tcl\n"
     ]
    }
   ],
   "source": [
    "tcl_files = os.path.join(f.tcl_loc.value, \"*.tcl\")\n",
    "# print(tcl_files)\n",
    "copy = 'cp '+tcl_files+\" \"+f.pwd.value+\".\"\n",
    "# print(copy)\n",
    "sp.run(copy, shell=True)"
   ]
  },
  {
   "cell_type": "markdown",
   "id": "59208fa9",
   "metadata": {},
   "source": [
    "#### Check values of the given inputs . . .\n",
    "If found discrepancy, check cell-2"
   ]
  },
  {
   "cell_type": "code",
   "execution_count": 128,
   "id": "c2a12342",
   "metadata": {},
   "outputs": [
    {
     "name": "stdout",
     "output_type": "stream",
     "text": [
      "Working Dir: /Users/souviksinha/Desktop/Palermo_Lab/LabWork/Project_Cas13a/LbuCas13a-crRNA-target/run/\n",
      "toppar file: SYS_nowat.prmtop\n",
      "DCD file: tgRNA_cl0-2.dcd\n",
      "Selection 1: (resid  1 to 1153) and noh\n",
      "Selection 2: (resid  1212 to 1241) and noh\n",
      "Cutoff distance (Angstrom): 4.5\n",
      "List of Content in the working directory ['run_vmd.sh', 'crRNA-atgRNA.dat', 'err.log', 'Contact-out_test.log', 'temp_contacts.dat', 'R1-R3_cl.c3.1265.pdb', 'crRNA-atgRNA_uniqueContact.npy', 'Cas13-crRNA_tgRNA_contact_cl0-2.npy', 'R1-R3_cl.c0.7068.pdb', 'compare_new.py', 'crRNA-tgRNA_uniqueContact.dat', 'temp.tcl', 'R1-R3_cl.c1', 'contact_book.html', 'Test-out1.log', 'R1-R3_cl.c1.2301.pdb', 'crRNA-tgRNA.npy', 'R1-R3_cl.c0', 'R1-R3_cl.c1.7633.pdb', 'Cas13-target_tgRNA_contact_cl0-2.dat', 'test.log', 'tgRNA_cl0-2-onlyProt.dcd', 'R1-R3_cl.c2.13334.pdb', 'Test-err.log', 'atgRNA-tgRNA.dat', 'tgRNA_cl0-2_cmap.npy', 'contact_final.tcl', 'contact_map.py', 'crRNA-tgRNA-5us-cl0-2.png', 'test.tcl', 'atgRNA-tgRNA_uniqueContact.npy', 'Contact-err_test.log', 'Cas13-target_tgRNA_contact_cl0-2.png', '.R1-R3_cl.c0.7068.pdb.swp', 'Contact-out.log', 'bigdcd.tcl', 'Test.vmd', 'crRNA-tgRNA_uniqueContact.npy', 'contact_all.bak.dat', 'Cas13-crRNA_tgRNA_contact_cl0-2.png', 'contact_book_files', 'crRNA-tgRNA.dat', 'temp_new.tcl', 'test.dat', 'R1-R3_cl.c2', 'SYS-RNA-ion-wat.prmtop', 'crRNA-atgRNA.npy', 'temp_new.log', 'R1-R3_cl.c4', 'SYS_nowat.prmtop', 'crRNA-atgRNA_uniqueContact.dat', 'R1-R3_cl.c3', 'Cas13-crRNA_tgRNA_contact_cl0-2.dat', 'atgRNA-tgRNA-5us-cl0-2.png', '.ipynb_checkpoints', 'R1-R3_cl.c3.10756.pdb', 'atgRNA-tgRNA_uniqueContact.dat', 'Test-out.log', 'vmd_contact.tcl', 'atgRNA-tgRNA_5us_cl0-2.png', 'R1-R3_cl.c0.12995.pdb', 'contact_book.ipynb', 'contact_all.dat', 'Contact-err.log', 'nohup.out', 'R1-R3_cl.c2.5409.pdb', 'tgRNA_cl0-2.dcd', 'tgRNA_cl0-2_cmap.dat', 'atgRNA-tgRNA.npy']\n"
     ]
    }
   ],
   "source": [
    "print(\"Working Dir:\", f.pwd.value)\n",
    "print(\"toppar file:\", f.top.value)\n",
    "print(\"DCD file:\", f.dcd.value)\n",
    "print(\"Selection 1:\", f.sele1.value)\n",
    "print(\"Selection 2:\", f.sele2.value)\n",
    "print(\"Cutoff distance (Angstrom):\", f.cutoff.value)\n",
    "print(\"List of Content in the working directory\", os.listdir(f.pwd.value))"
   ]
  },
  {
   "cell_type": "markdown",
   "id": "ff07adfa",
   "metadata": {},
   "source": [
    "#### Change to working directory . . .\n",
    "Create the contact_final.tcl with the parsed inputs for calculation of contacts.."
   ]
  },
  {
   "cell_type": "code",
   "execution_count": 129,
   "id": "44001427",
   "metadata": {
    "scrolled": true
   },
   "outputs": [
    {
     "name": "stdout",
     "output_type": "stream",
     "text": [
      "Current directory: /Users/souviksinha/Desktop/Palermo_Lab/LabWork/Project_Cas13a/LbuCas13a-crRNA-target/run\n",
      "\n",
      "Already in working directory ....\n",
      "sed \"s/top_file/SYS_nowat.prmtop/g; s/dcd_file/tgRNA_cl0-2.dcd/g; s/cutoff_dist/4.5/g; s/selection1/(resid  1 to 1153) and noh/g; s/selection2/(resid  1212 to 1241) and noh/g\" vmd_contact.tcl > contact_final.tcl\n"
     ]
    },
    {
     "data": {
      "text/plain": [
       "CompletedProcess(args='sed \"s/top_file/SYS_nowat.prmtop/g; s/dcd_file/tgRNA_cl0-2.dcd/g; s/cutoff_dist/4.5/g; s/selection1/(resid  1 to 1153) and noh/g; s/selection2/(resid  1212 to 1241) and noh/g\" vmd_contact.tcl > contact_final.tcl', returncode=0)"
      ]
     },
     "execution_count": 129,
     "metadata": {},
     "output_type": "execute_result"
    }
   ],
   "source": [
    "print(\"Current directory:\", os.getcwd())\n",
    "if os.getcwd()+\"/\" != f.pwd.value:\n",
    "    os.chdir(f.pwd.value)\n",
    "    print(\"\\nNow in working directory:\", os.getcwd())\n",
    "else:\n",
    "    print(\"\\nAlready in working directory ....\")\n",
    "sed = 'sed '+'\\\"s/top_file/'+f.top.value+'/g; s/dcd_file/'+f.dcd.value+'/g; s/cutoff_dist/'+f.cutoff.value+'/g; s/selection1/'+f.sele1.value+'/g; s/selection2/'+f.sele2.value+'/g\\\" '+'vmd_contact.tcl >'+' contact_final.tcl'\n",
    "print(sed)\n",
    "sp.run(sed, shell=True)"
   ]
  },
  {
   "cell_type": "markdown",
   "id": "0e4a536b",
   "metadata": {},
   "source": [
    "#### Check for contact_all.dat (output of the VMD run) from any previous run . . . \n",
    "Delete if exists, otherwise output of the current run will get appended in the previous file.."
   ]
  },
  {
   "cell_type": "code",
   "execution_count": 130,
   "id": "edab89bb",
   "metadata": {},
   "outputs": [
    {
     "name": "stdout",
     "output_type": "stream",
     "text": [
      "Backup created and deleted contact_all.dat file from previous run ....\n",
      "\n",
      "List of Content in the working directory ['run_vmd.sh', 'crRNA-atgRNA.dat', 'err.log', 'Contact-out_test.log', 'temp_contacts.dat', 'R1-R3_cl.c3.1265.pdb', 'crRNA-atgRNA_uniqueContact.npy', 'Cas13-crRNA_tgRNA_contact_cl0-2.npy', 'R1-R3_cl.c0.7068.pdb', 'compare_new.py', 'crRNA-tgRNA_uniqueContact.dat', 'temp.tcl', 'R1-R3_cl.c1', 'contact_book.html', 'Test-out1.log', 'R1-R3_cl.c1.2301.pdb', 'crRNA-tgRNA.npy', 'R1-R3_cl.c0', 'R1-R3_cl.c1.7633.pdb', 'Cas13-target_tgRNA_contact_cl0-2.dat', 'test.log', 'tgRNA_cl0-2-onlyProt.dcd', 'R1-R3_cl.c2.13334.pdb', 'Test-err.log', 'atgRNA-tgRNA.dat', 'tgRNA_cl0-2_cmap.npy', 'contact_final.tcl', 'contact_map.py', 'crRNA-tgRNA-5us-cl0-2.png', 'test.tcl', 'atgRNA-tgRNA_uniqueContact.npy', 'Contact-err_test.log', 'Cas13-target_tgRNA_contact_cl0-2.png', '.R1-R3_cl.c0.7068.pdb.swp', 'Contact-out.log', 'bigdcd.tcl', 'Test.vmd', 'crRNA-tgRNA_uniqueContact.npy', 'contact_all.bak.dat', 'Cas13-crRNA_tgRNA_contact_cl0-2.png', 'contact_book_files', 'crRNA-tgRNA.dat', 'temp_new.tcl', 'test.dat', 'R1-R3_cl.c2', 'SYS-RNA-ion-wat.prmtop', 'crRNA-atgRNA.npy', 'temp_new.log', 'R1-R3_cl.c4', 'SYS_nowat.prmtop', 'crRNA-atgRNA_uniqueContact.dat', 'R1-R3_cl.c3', 'Cas13-crRNA_tgRNA_contact_cl0-2.dat', 'atgRNA-tgRNA-5us-cl0-2.png', '.ipynb_checkpoints', 'R1-R3_cl.c3.10756.pdb', 'atgRNA-tgRNA_uniqueContact.dat', 'Test-out.log', 'vmd_contact.tcl', 'atgRNA-tgRNA_5us_cl0-2.png', 'R1-R3_cl.c0.12995.pdb', 'contact_book.ipynb', 'Contact-err.log', 'nohup.out', 'R1-R3_cl.c2.5409.pdb', 'tgRNA_cl0-2.dcd', 'tgRNA_cl0-2_cmap.dat', 'atgRNA-tgRNA.npy']\n"
     ]
    }
   ],
   "source": [
    "if os.path.exists(\"contact_all.dat\"):\n",
    "  copy = 'cp '+\"contact_all.dat\"+\" \"+\"contact_all.bak.dat\"\n",
    "  sp.run(copy, shell=True)\n",
    "  os.remove(\"contact_all.dat\")\n",
    "  print(\"Backup created and deleted contact_all.dat file from previous run ....\\n\")\n",
    "else:\n",
    "  print(\"The file does not exist\\n\")\n",
    "\n",
    "print(\"List of Content in the working directory\", os.listdir(f.pwd.value))"
   ]
  },
  {
   "cell_type": "markdown",
   "id": "2ad45f26",
   "metadata": {},
   "source": [
    "### Run VMD\n",
    "Output: \n",
    "1. contact_all.dat: \n",
    "<br> 1 line per contact per frame \n",
    "<br> Fields: frame number, contacting residues, minimal distance\n",
    "<br> example:\n",
    "<br> Say, if in frame 1, residue 361 (THR) is in contact with residue 363 (ASP) with minimal distance ~3.2 A\n",
    "<br> 1       361 THR -   363 ASP - 3.197465\n",
    "2. Contact-out.log & contact-err.log for stdout & stderr respectively\n",
    "<br>\n",
    "3. During the run, update of contact_all.dat can be checked by running the following command in the shell: \"tail -f contact_all.dat\""
   ]
  },
  {
   "cell_type": "code",
   "execution_count": 131,
   "id": "e54b5b25",
   "metadata": {},
   "outputs": [
    {
     "name": "stdout",
     "output_type": "stream",
     "text": [
      "Run finished.. check whether the output contact_all.dat is okay\n"
     ]
    }
   ],
   "source": [
    "outlogFile = open(\"Contact-out.log\", \"w\")\n",
    "errlogFile = open(\"Contact-err.log\", \"w\")\n",
    "p = sp.Popen([f.vmd_path.value, '-dispdev', 'none', '-e', 'contact_final.tcl'], stdout=outlogFile, stdin=sp.PIPE, stderr=errlogFile)\n",
    "p.wait()\n",
    "if p.poll is None:\n",
    "    print(\"VMD still running..\")\n",
    "else:\n",
    "    print(\"Run finished.. check whether the output contact_all.dat is okay\")"
   ]
  },
  {
   "cell_type": "markdown",
   "id": "c0c2a2f1",
   "metadata": {},
   "source": [
    "## Calculate Contact Map\n",
    "### Collect inputs\n",
    "1. Working directoy: Directory that contains contact_all.dat (from VMD run). This directory will also be used as output directory.\n",
    "<br>\n",
    "2. Prefix of the output contact map (i.e. without extension)"
   ]
  },
  {
   "cell_type": "code",
   "execution_count": 2,
   "id": "3ebc06d4",
   "metadata": {
    "scrolled": false
   },
   "outputs": [
    {
     "name": "stdout",
     "output_type": "stream",
     "text": [
      "After input, press return in any field\n"
     ]
    },
    {
     "data": {
      "application/vnd.jupyter.widget-view+json": {
       "model_id": "3e55ff64ced94950be4f66f0a2cc3ea7",
       "version_major": 2,
       "version_minor": 0
      },
      "text/plain": [
       "Text(value='/../../../', description='Working Dir:', layout=Layout(height='40px', width='auto'))"
      ]
     },
     "metadata": {},
     "output_type": "display_data"
    },
    {
     "data": {
      "application/vnd.jupyter.widget-view+json": {
       "model_id": "6dafa99258b34812979c3215d6db0812",
       "version_major": 2,
       "version_minor": 0
      },
      "text/plain": [
       "Text(value='prefix of output map', description='Outfile prefix:', layout=Layout(height='40px', width='auto'))"
      ]
     },
     "metadata": {},
     "output_type": "display_data"
    },
    {
     "data": {
      "application/vnd.jupyter.widget-view+json": {
       "model_id": "9eda9c4814bd4c1eb45601123947e70f",
       "version_major": 2,
       "version_minor": 0
      },
      "text/plain": [
       "Text(value='provide the range of residues from selection1 [e.g. 1 to 1153]', description='Res_range1:', layout…"
      ]
     },
     "metadata": {},
     "output_type": "display_data"
    },
    {
     "data": {
      "application/vnd.jupyter.widget-view+json": {
       "model_id": "31b5ece19a6d4f79b3f8ce31d4c04dd4",
       "version_major": 2,
       "version_minor": 0
      },
      "text/plain": [
       "Text(value='provide the range of residues from selection2 [e.g. 1154 to 1204]', description='Res_range2:', lay…"
      ]
     },
     "metadata": {},
     "output_type": "display_data"
    }
   ],
   "source": [
    "class req_inputs():\n",
    "    def __init__(self, \n",
    "                 pwd1 = \"/../../../\", \n",
    "                 out = \"prefix of output map\",\n",
    "                 res_range1 = \"provide the range of residues from selection1 [e.g. 1 to 1153]\",\n",
    "                 res_range2 = \"provide the range of residues from selection2 [e.g. 1154 to 1204]\"\n",
    "                ):\n",
    "        layout = widgets.Layout(width='auto', height='40px') #set width and height\n",
    "        self.pwd1 = widgets.Text(description = 'Working Dir:',value = pwd1, layout = layout)\n",
    "        self.out = widgets.Text(description = 'Outfile prefix:',value = out, layout = layout)\n",
    "        self.res_range1 = widgets.Text(description = 'Res_range1:',value = res_range1, layout = layout)\n",
    "        self.res_range2 = widgets.Text(description = 'Res_range2:',value = res_range2, layout = layout)\n",
    "        self.pwd1.on_submit(self.handle_submit)\n",
    "        self.out.on_submit(self.handle_submit)\n",
    "        self.res_range1.on_submit(self.handle_submit)\n",
    "        self.res_range2.on_submit(self.handle_submit)\n",
    "        display(self.pwd1, self.out, self.res_range1, self.res_range2)\n",
    "\n",
    "    def handle_submit(self, text):\n",
    "        self.v = text.value\n",
    "        return self.v\n",
    "\n",
    "print(\"After input, press return in any field\")\n",
    "g = req_inputs()"
   ]
  },
  {
   "cell_type": "markdown",
   "id": "72ac7273",
   "metadata": {},
   "source": [
    "### Set contact_all.dat and temp_contacts.dat (a temporary file for calculation of contact) . . ."
   ]
  },
  {
   "cell_type": "code",
   "execution_count": 132,
   "id": "a235fb10",
   "metadata": {},
   "outputs": [
    {
     "name": "stdout",
     "output_type": "stream",
     "text": [
      "/Users/souviksinha/Desktop/Palermo_Lab/LabWork/Project_Cas13a/LbuCas13a-crRNA-target/run/temp_contacts.dat\n"
     ]
    }
   ],
   "source": [
    "contact = os.path.join(g.pwd1.value, \"contact_all.dat\")\n",
    "temp_contact = os.path.join(g.pwd1.value, \"temp_contacts.dat\")\n",
    "print(temp_contact)"
   ]
  },
  {
   "cell_type": "markdown",
   "id": "78402278",
   "metadata": {},
   "source": [
    "### Sorting contact map and get total residues, total frames . . ."
   ]
  },
  {
   "cell_type": "code",
   "execution_count": 133,
   "id": "9c9f72e4",
   "metadata": {},
   "outputs": [
    {
     "name": "stdout",
     "output_type": "stream",
     "text": [
      "1153 30\n"
     ]
    }
   ],
   "source": [
    "res_range1 = len(np.arange(int(g.res_range1.value.split()[0]), int(g.res_range1.value.split()[2])+1))\n",
    "res_range2 = len(np.arange(int(g.res_range2.value.split()[0]), int(g.res_range2.value.split()[2])+1))\n",
    "print(\"Selection-1 length:\",res_range1,\"\\n\", \"Selection-2 length:\", res_range2, \"\\n\")\n",
    "s2 = 'sort -n -k1 '+contact+' | awk \\'{print $1, $2, $5}\\' > '+temp_contact\n",
    "s4 = 'tail -n1 '+temp_contact+' | awk \\'{print $1}\\''\n",
    "# print(s4) ## Checking the command\n",
    "######### Output processing and system info #######\n",
    "sp.run(s2, shell=True) # sort the output of vmd according to frames\n",
    "\n",
    "frames=int(sp.getoutput(s4)) # Get total frames\n",
    "\n",
    "print('No of frames:',frames)"
   ]
  },
  {
   "cell_type": "markdown",
   "id": "b53b41fd",
   "metadata": {},
   "source": [
    "### Calculate the contact matrix . . . "
   ]
  },
  {
   "cell_type": "code",
   "execution_count": 136,
   "id": "0111d0d6",
   "metadata": {
    "scrolled": true
   },
   "outputs": [
    {
     "name": "stdout",
     "output_type": "stream",
     "text": [
      "Saving the the map in a tabular format...\n",
      "\n",
      "Original residue ID's are gonna maintained as provided in the selction....\n",
      "\n",
      "Done Saving.. check the *.dat file\n",
      "\n",
      "Saving the the map in *.npy format...\n",
      "\n",
      "It's just the matrix.. so only indexes for the provided range starts from 0\n",
      "\n",
      "Be careful if you are plotting the matrix directly.. you have to chenge the indexes accordingly..\n",
      "\n",
      "Done Saving.. \n",
      "\n",
      "Printing the contact map ...\n",
      "[[0.         0.         0.         ... 0.0674852  0.73824451 0.66875653]\n",
      " [0.         0.         0.         ... 0.55546848 0.91649251 0.54623824]\n",
      " [0.         0.         0.         ... 0.         0.01280042 0.        ]\n",
      " ...\n",
      " [0.         0.         0.         ... 0.         0.         0.        ]\n",
      " [0.         0.         0.         ... 0.         0.         0.        ]\n",
      " [0.         0.         0.         ... 0.         0.         0.        ]]\n"
     ]
    }
   ],
   "source": [
    "f2=1\n",
    "\n",
    "#contactMatAll = np.zeros(shape=(frame_arr,res_arr,res_arr)) ## memory allocation issue with large trajs\n",
    "running_contact =  np.zeros(shape=(res_range1,res_range2))\n",
    "t =  np.zeros(shape=(res_range1,res_range2))\n",
    "\n",
    "with open(temp_contact, \"r\") as input:\n",
    "        for line in input:\n",
    "                lines=line.split()\n",
    "                f=int(lines[0])\n",
    "                res1=int(lines[1]) - (int(g.res_range1.value.split()[0])\n",
    "                res2=int(lines[2]) - (int(g.res_range2.value.split()[0])\n",
    "                f1 = f\n",
    "                if (f1 == f2):  ## to avoid repeating same contacts from same frames\n",
    "                    running_contact[res1,res2] = 1\n",
    "                    if g.res_range1.value == g.res_range2.value:\n",
    "                        running_contact[res2,res1] = 1\n",
    "                else:\n",
    "                    t = np.add(t, running_contact) # updating after each frame\n",
    "                    running_contact =  np.zeros(shape=(res_range1,res_range2))\n",
    "                    running_contact[res1,res2] = 1\n",
    "                    if g.res_range1.value == g.res_range2.value:\n",
    "                        running_contact[res2,res1] = 1\n",
    "                f2 = f1\n",
    "                \n",
    "input.close()\n",
    "t = np.add(t, running_contact)\n",
    "\n",
    "contactMat = np.true_divide(t, frames) # getting the fraction\n",
    "\n",
    "\n",
    "if g.res_range1.value == g.res_range2.value:\n",
    "    for x in range(res_range1):\n",
    "        contactMat[x, x] = 1 ## same residue contact\n",
    "        for y in range(x, res_range1):\n",
    "           contactMat[x, y] = contactMat[y, x] ## for the lower diagonal\n",
    "\n",
    "        \n",
    "print(\"Saving the the map in a tabular format...\\n\")\n",
    "print(\"Original residue ID's are gonna maintained as provided in the selction....\\n\")\n",
    "#### --- we need a tabular data form -- ####\n",
    "fo2 = open(os.path.join(g.pwd1.value, g.out.value)+\".dat\", \"w+\")\n",
    "for i in range(res_range1):\n",
    "    for j in range(res_range2):\n",
    "        if (contactMat[i,j] != 0):\n",
    "            fo2.write(\"%s %s %8.3f\\n\" % (i+int(g.res_range1.value.split()[0]), j+(int(g.res_range2.value.split()[0]), contactMat[i,j]))\n",
    "            \n",
    "fo2.close()\n",
    "print(\"Done Saving.. check the *.dat file\\n\")\n",
    "\n",
    "print(\"Saving the the map in *.npy format...\\n\")\n",
    "print(\"It's just the matrix.. so only indexes for the provided range starts from 0\\n\")\n",
    "print(\"Be careful if you are plotting the matrix directly.. you have to chenge the indexes accordingly..\\n\")\n",
    "\n",
    "np.save(os.path.join(g.pwd1.value, g.out.value)+\".npy\", contactMat)\n",
    "print(\"Done Saving.. \\n\")\n",
    "print(\"Printing the contact map ...\")\n",
    "print(contactMat) ## check cmap"
   ]
  },
  {
   "cell_type": "markdown",
   "id": "7e14e9e2",
   "metadata": {},
   "source": [
    "### Read contact data and plot . . . "
   ]
  },
  {
   "cell_type": "code",
   "execution_count": 18,
   "id": "ddbde2e4",
   "metadata": {},
   "outputs": [],
   "source": [
    "contact = np.loadtxt(os.path.join(g.pwd1.value, g.out.value)+\".dat\")\n",
    "df_contact = pd.DataFrame(contact, columns = ['X','Y','Z'])"
   ]
  },
  {
   "cell_type": "code",
   "execution_count": 19,
   "id": "18dbb331",
   "metadata": {},
   "outputs": [
    {
     "data": {
      "application/vnd.jupyter.widget-view+json": {
       "model_id": "fa73641cc5e1474e81cda836130e1153",
       "version_major": 2,
       "version_minor": 0
      },
      "text/plain": [
       "interactive(children=(FloatSlider(value=0.3, description='min', max=1.0), FloatSlider(value=0.9, description='…"
      ]
     },
     "metadata": {},
     "output_type": "display_data"
    }
   ],
   "source": [
    "import matplotlib.gridspec as gridspec\n",
    "%matplotlib inline\n",
    "%config InlineBackend.figure_format = 'retina'  # high resolution\n",
    "\n",
    "A = g.pwd1.value+g.out.value+\".png\"\n",
    "\n",
    "@widgets.interact(min=(0, 1, 0.1), max=(0, 1, 0.1), save=(0, 1), figsize_x=(5,15), figsize_y=(5,15))\n",
    "def update(min=0.3, max=0.9, save=0, size_x=8, size_y=8):\n",
    "    df_contact_A = df_contact[((df_contact['Z']>min) & (df_contact['Z']<max))][['X','Y','Z']]\n",
    "    fig = plt.figure(figsize=(figsize_x,figsize_y))\n",
    "    fig = plt.figure()\n",
    "    spec = gridspec.GridSpec(ncols=1, nrows=1, figure=fig)\n",
    "    ax1 = fig.add_subplot(spec[0, 0])\n",
    "\n",
    "    data = [df_contact_A]\n",
    "    axss = [ax1]\n",
    "    header = ['Contact Map']\n",
    "    for l, n, i in zip(data, axss, header):\n",
    "        X = n.scatter(l.X, l.Y, s=2, c=l.Z, cmap='coolwarm')\n",
    "        n.axis([df_contact[\"X\"].min(),df_contact[\"X\"].max() + 10, df_contact[\"Y\"].min(), df_contact[\"Y\"].max() + 10])\n",
    "        n.set_title(i, fontsize=16, fontweight='bold')\n",
    "        n.set_xlabel('Selection 1 resids ->', fontsize=14, fontweight='bold') \n",
    "        n.set_ylabel('Selection 2 resids ->', fontsize=14, fontweight='bold')\n",
    "        \n",
    "        ## for setting up x-, y-ticks and ticklabels\n",
    "        if (df_contact[\"X\"].max() - df_contact[\"X\"].min() > 500):\n",
    "            n.set_xticks(np.arange(df_contact[\"X\"].min(),df_contact[\"X\"].max()+10,100))\n",
    "            n.set_xticklabels(np.arange(df_contact[\"X\"].min(),df_contact[\"X\"].max()+10,100), fontsize=12)\n",
    "        elif (df_contact[\"X\"].max() - df_contact[\"X\"].min() < 50):\n",
    "            n.set_xticks(np.arange(df_contact[\"X\"].min(),df_contact[\"X\"].max()+10,5))\n",
    "            n.set_xticklabels(np.arange(df_contact[\"X\"].min(),df_contact[\"X\"].max()+10,5), fontsize=12)\n",
    "        else:\n",
    "            n.set_xticks(np.arange(df_contact[\"X\"].min(),df_contact[\"X\"].max()+10,10))\n",
    "            n.set_xticklabels(np.arange(df_contact[\"X\"].min(),df_contact[\"X\"].max()+10,10), fontsize=12)\n",
    "        \n",
    "        if (df_contact[\"Y\"].max() - df_contact[\"Y\"].min() > 500):\n",
    "            n.set_xticks(np.arange(df_contact[\"Y\"].min(),df_contact[\"Y\"].max()+10,100))\n",
    "            n.set_xticklabels(np.arange(df_contact[\"Y\"].min(),df_contact[\"Y\"].max()+10,100), fontsize=12)\n",
    "        elif (df_contact[\"Y\"].max() - df_contact[\"Y\"].min() < 50):\n",
    "            n.set_xticks(np.arange(df_contact[\"Y\"].min(),df_contact[\"Y\"].max()+10,5))\n",
    "            n.set_xticklabels(np.arange(df_contact[\"Y\"].min(),df_contact[\"Y\"].max()+10,5), fontsize=12)\n",
    "        else:\n",
    "            n.set_xticks(np.arange(df_contact[\"Y\"].min(),df_contact[\"Y\"].max()+10,10))\n",
    "            n.set_xticklabels(np.arange(df_contact[\"Y\"].min(),df_contact[\"Y\"].max()+10,10), fontsize=12)\n",
    "            \n",
    "        plt.colorbar(X,ax=n)\n",
    "    plt.show()\n",
    "    if save == 1:\n",
    "        fig.savefig(A, dpi=300)\n"
   ]
  },
  {
   "cell_type": "markdown",
   "id": "8992e10b",
   "metadata": {},
   "source": [
    "<br>\n",
    "\n",
    "## For comparison of contact maps\n",
    "For Calculation of differential and unique contact maps by comparing 2 contact maps of same array size (i.e. maps calculated with same number of residues)\n",
    "### Collect inputs\n",
    "1. Working directoy: This directory will also be used as output directory.\n",
    "<br>\n",
    "2. Path to the first and second contact map (*.npy files)\n",
    "<br>\n",
    "3. Prefix of output maps (without extension)"
   ]
  },
  {
   "cell_type": "code",
   "execution_count": 3,
   "id": "fd2096f4",
   "metadata": {
    "scrolled": true
   },
   "outputs": [
    {
     "name": "stdout",
     "output_type": "stream",
     "text": [
      "After input, press return in any field\n"
     ]
    },
    {
     "data": {
      "application/vnd.jupyter.widget-view+json": {
       "model_id": "75b8667c277a43a6be7078a642032068",
       "version_major": 2,
       "version_minor": 0
      },
      "text/plain": [
       "Text(value='/../../../', description='Working Dir:', layout=Layout(height='40px', width='auto'))"
      ]
     },
     "metadata": {},
     "output_type": "display_data"
    },
    {
     "data": {
      "application/vnd.jupyter.widget-view+json": {
       "model_id": "e4c4e6e327aa4b43ab8c8f54cdd9d7bc",
       "version_major": 2,
       "version_minor": 0
      },
      "text/plain": [
       "Text(value='/../../cmap1.npy (full path to the cmap1.npy)', description='CMap1\\n full path:', layout=Layout(he…"
      ]
     },
     "metadata": {},
     "output_type": "display_data"
    },
    {
     "data": {
      "application/vnd.jupyter.widget-view+json": {
       "model_id": "e3638079f9794fa9b4fbc6a5787f37b4",
       "version_major": 2,
       "version_minor": 0
      },
      "text/plain": [
       "Text(value='/../../cmap2.npy (full path to the cmap1.npy)', description='CMap2 full path:', layout=Layout(heig…"
      ]
     },
     "metadata": {},
     "output_type": "display_data"
    },
    {
     "data": {
      "application/vnd.jupyter.widget-view+json": {
       "model_id": "e6162c82e8c54bb78aa01576b98a30c1",
       "version_major": 2,
       "version_minor": 0
      },
      "text/plain": [
       "Text(value='crRNA-tgRNA', description='Outfile prefix:', layout=Layout(height='40px', width='auto'))"
      ]
     },
     "metadata": {},
     "output_type": "display_data"
    }
   ],
   "source": [
    "class req_inputs2():\n",
    "    def __init__(self,  \n",
    "                 pwd2 = \"/../../../\",\n",
    "                 CMap1_path = \"/../../cmap1.npy (full path to the cmap1.npy)\",\n",
    "                 CMap2_path = \"/../../cmap2.npy (full path to the cmap1.npy)\",\n",
    "                 out_pref = \"crRNA-tgRNA\",\n",
    "                 res_range1 = \"provide the range of residues from selection1 [e.g. 1 to 1153]\",\n",
    "                 res_range2 = \"provide the range of residues from selection2 [e.g. 1154 to 1204]\"\n",
    "                ):\n",
    "        layout = widgets.Layout(width='auto', height='40px') #set width and height\n",
    "        self.pwd2 = widgets.Text(description = 'Working Dir:',value = pwd2, layout = layout)\n",
    "        self.CMap1_path = widgets.Text(description = 'CMap1\\n full path:',value = CMap1_path, layout = layout)\n",
    "        self.CMap2_path = widgets.Text(description = 'CMap2 full path:',value = CMap2_path, layout = layout)\n",
    "        self.out_pref = widgets.Text(description = 'Outfile prefix:',value = out_pref, layout = layout)\n",
    "        self.pwd2.on_submit(self.handle_submit)\n",
    "        self.CMap1_path.on_submit(self.handle_submit)\n",
    "        self.CMap2_path.on_submit(self.handle_submit)\n",
    "        self.out_pref.on_submit(self.handle_submit)\n",
    "        self.res_range1.on_submit(self.handle_submit)\n",
    "        self.res_range2.on_submit(self.handle_submit)\n",
    "        display(self.pwd2,self.CMap1_path, self.CMap2_path, self.out_pref, self.res_range1, self.res_range2)\n",
    "\n",
    "    def handle_submit(self, text):\n",
    "        self.v = text.value\n",
    "        return self.v\n",
    "\n",
    "print(\"After input, press return in any field\")\n",
    "h = req_inputs2()"
   ]
  },
  {
   "cell_type": "markdown",
   "id": "dd3d5c91",
   "metadata": {},
   "source": [
    "#### Check values of the given inputs . . .\n",
    "If found discrepancy, check input cell"
   ]
  },
  {
   "cell_type": "code",
   "execution_count": 7,
   "id": "3ba60355",
   "metadata": {},
   "outputs": [
    {
     "name": "stdout",
     "output_type": "stream",
     "text": [
      "Working Dir: /Users/souviksinha/Desktop/Palermo_Lab/LabWork/Project_Cas13a/LbuCas13a-crRNA-target/run/\n",
      "CMap1: /Users/souviksinha/Desktop/Palermo_Lab/LabWork/Project_Cas13a/LbuCas13a-crRNA/run/crRNA_cl0-2_cmap.npy\n",
      "CMap2: Text(value='/Users/souviksinha/Desktop/Palermo_Lab/LabWork/Project_Cas13a/LbuCas13a-Antitag/run/atgRNA_cl0-2_cmap.npy', description='CMap2 full path:')\n",
      "Out Prefix: crRNA-atgRNA\n"
     ]
    }
   ],
   "source": [
    "print(\"Working Dir:\", h.pwd2.value)\n",
    "print(\"CMap1:\", h.CMap1_path.value)\n",
    "print(\"CMap2:\", h.CMap2_path)\n",
    "print(\"Out Prefix:\", h.out_pref.value)\n",
    "print(\"Selection 1:\", h.res_range1.value)\n",
    "print(\"Selection 2:\", h.res_range2.value)"
   ]
  },
  {
   "cell_type": "markdown",
   "id": "29f8ad38",
   "metadata": {},
   "source": [
    "### Calculation of differential and unique contact map\n",
    "\"Differential\" contacts are common in both the input maps, but differs in their stability. The output differential contact map will give the difference in the stability in a scale of -1 to +1. Positive (+ve) values correspond to stability in the first input and negative (-ve) values correspond to stability in the second input contact map.\n",
    "<br>\n",
    "<br>\n",
    "\"Unique\" contacts are exclusive in either of the system. Stability scale is similar to differential map. Positive (+ve) values correspond to contact in the first input and negative (-ve) values correspond to the second input contact map.\n",
    "\n",
    "<br>\n",
    "Output: Output contact matrices will be written as *.npy and as *.dat file (tabular data form)"
   ]
  },
  {
   "cell_type": "code",
   "execution_count": 9,
   "id": "a3076463",
   "metadata": {},
   "outputs": [],
   "source": [
    "a1 = np.load(h.CMap1_path.value)\n",
    "a2 = np.load(h.CMap2_path.value)\n",
    "\n",
    "ncols1 = a1.shape[0]\n",
    "ncols2 = a1.shape[1]\n",
    "\n",
    "t1 =  np.zeros(shape=(ncols1,ncols2))\n",
    "t2 =  np.zeros(shape=(ncols1,ncols2))\n",
    "\n",
    "# for i in range(ncols):\n",
    "#     for j in range(i, ncols):\n",
    "for i in range(ncols1):\n",
    "    for j in range(ncols2):\n",
    "        if ((a1[i,j] != 0) & (a2[i,j] != 0)):\n",
    "            t1[i,j] = a1[i,j] - a2[i,j] ## differential contact map #######\n",
    "        else:\n",
    "            t2[i,j] = a1[i,j] - a2[i,j] ## unique contact map #######\n",
    "\n",
    "\n",
    "np.save(os.path.join(h.pwd2.value, h.out_pref.value)+\"_diff.npy\", t1)\n",
    "np.save(os.path.join(h.pwd2.value, h.out_pref.value)+\"_uniq.npy\", t2)\n",
    "\n",
    "#### --- we need a tabular data form -- ####\n",
    "fo2 = open(os.path.join(h.pwd2.value, h.out_pref.value)+\"_diff.dat\", \"w+\")\n",
    "fo3 = open(os.path.join(h.pwd2.value, h.out_pref.value)+\"_uniq.dat\", \"w+\")\n",
    "\n",
    "\n",
    "if ncols1 = ncols2:\n",
    "    print(\" We have got symmentric map (same number of residues in rows and columns)..\")\n",
    "    print( \"With a symmetric map, we are gonna output the tabular data in a way that plotting would show stable 1st input contacts in the upper diagona \\\n",
    "            and stable 2nd input contact in the lower diagonal...)\n",
    "    for i in range(ncols1):\n",
    "        for j in range(ncols2):\n",
    "            if (t1[i,j] != 0):\n",
    "                if (t1[i,j] > 0): ## 1st system stable\n",
    "                     fo2.write(\"%s %s %8.3f\\n\" % (i+int(h.res_range1.value.split()[0]), j+(int(h.res_range2.value.split()[0]), t1[i,j])))\n",
    "                else:    ## 2nd system stable\n",
    "                     fo2.write(\"%s %s %8.3f\\n\" % (j+int(h.res_range2.value.split()[0]), i+(int(h.res_range1.value.split()[0]), t1[i,j])))\n",
    "\n",
    "            if (t2[i,j] != 0):\n",
    "                if (t2[i,j] > 0): ## 1st system stable\n",
    "                    fo3.write(\"%s %s %8.3f\\n\" % (i+int(h.res_range1.value.split()[0]), j+(int(h.res_range2.value.split()[0]), t2[i,j]))\n",
    "                else:\n",
    "                    fo3.write(\"%s %s %8.3f\\n\" % (j+int(h.res_range2.value.split()[0]), i+(int(h.res_range1.value.split()[0]), t2[i,j]))\n",
    "else:\n",
    "\n",
    "    for i in range(ncols1):\n",
    "        for j in range(ncols2):\n",
    "            if (t1[i,j] != 0):\n",
    "                 fo2.write(\"%s %s %8.3f\\n\" % (i+int(h.res_range1.value.split()[0]), j+(int(h.res_range2.value.split()[0]), t1[i,j]))\n",
    "\n",
    "            if (t2[i,j] != 0):\n",
    "                fo3.write(\"%s %s %8.3f\\n\" % (i+int(h.res_range1.value.split()[0]), j+(int(h.res_range2.value.split()[0]), t2[i,j]))\n",
    "\n",
    "fo2.close()\n",
    "fo3.close()"
   ]
  },
  {
   "cell_type": "markdown",
   "id": "80f7a57b",
   "metadata": {},
   "source": [
    "<br>\n",
    "\n",
    "## Plotting of Differential and unique contact maps"
   ]
  },
  {
   "cell_type": "code",
   "execution_count": 2,
   "id": "f6f7853a",
   "metadata": {
    "scrolled": true
   },
   "outputs": [
    {
     "name": "stdout",
     "output_type": "stream",
     "text": [
      "After input, press return in any field\n"
     ]
    },
    {
     "data": {
      "application/vnd.jupyter.widget-view+json": {
       "model_id": "0dc722692fd8493b92bccac7436e69a5",
       "version_major": 2,
       "version_minor": 0
      },
      "text/plain": [
       "Text(value='/../../../', description='Working Dir:', layout=Layout(height='40px', width='auto'))"
      ]
     },
     "metadata": {},
     "output_type": "display_data"
    },
    {
     "data": {
      "application/vnd.jupyter.widget-view+json": {
       "model_id": "4e1184aa98074ea29b576d289f7c24a3",
       "version_major": 2,
       "version_minor": 0
      },
      "text/plain": [
       "Text(value='/../../differential_cmap.dat (path to the differential contact map)', description='Diff. map:', la…"
      ]
     },
     "metadata": {},
     "output_type": "display_data"
    },
    {
     "data": {
      "application/vnd.jupyter.widget-view+json": {
       "model_id": "d5ada5a42a02428ba7d73d8e1932fa29",
       "version_major": 2,
       "version_minor": 0
      },
      "text/plain": [
       "Text(value='/../../uniq_cmap.dat (path to the uniq contact map)', description='Uniq. map:', layout=Layout(heig…"
      ]
     },
     "metadata": {},
     "output_type": "display_data"
    },
    {
     "data": {
      "application/vnd.jupyter.widget-view+json": {
       "model_id": "16a1e611f88f4e13985fa0ac0001e340",
       "version_major": 2,
       "version_minor": 0
      },
      "text/plain": [
       "Text(value='crRNA-tgRNA-5us-cl0-2', description='Outfile prefix:', layout=Layout(height='40px', width='auto'))"
      ]
     },
     "metadata": {},
     "output_type": "display_data"
    }
   ],
   "source": [
    "class req_inputs3():\n",
    "    def __init__(self,  \n",
    "                 pwd3 = \"/../../../\",\n",
    "                 dMap_path = \"/../../differential_cmap.dat (path to the differential contact map)\",\n",
    "                 uMap_path = \"/../../uniq_cmap.dat (path to the uniq contact map)\",\n",
    "                 out_pref = \"crRNA-tgRNA-5us-cl0-2\"\n",
    "                ):\n",
    "        layout = widgets.Layout(width='auto', height='40px') #set width and height\n",
    "        self.pwd3 = widgets.Text(description = 'Working Dir:',value = pwd3, layout = layout)\n",
    "        self.dMap_path = widgets.Text(description = 'Diff. map:',value = dMap_path, layout = layout)\n",
    "        self.uMap_path = widgets.Text(description = 'Uniq. map:',value = uMap_path, layout = layout)\n",
    "        self.out_pref = widgets.Text(description = 'Outfile prefix:',value = out_pref, layout = layout)\n",
    "        self.pwd3.on_submit(self.handle_submit)\n",
    "        self.dMap_path.on_submit(self.handle_submit)\n",
    "        self.uMap_path.on_submit(self.handle_submit)\n",
    "        self.out_pref.on_submit(self.handle_submit)\n",
    "        display(self.pwd3,self.dMap_path, self.uMap_path, self.out_pref)\n",
    "\n",
    "    def handle_submit(self, text):\n",
    "        self.v = text.value\n",
    "        return self.v\n",
    "\n",
    "print(\"After input, press return in any field\")\n",
    "i = req_inputs3()"
   ]
  },
  {
   "cell_type": "code",
   "execution_count": 3,
   "id": "e7163d2e",
   "metadata": {},
   "outputs": [],
   "source": [
    "Diff = np.loadtxt(i.dMap_path.value)\n",
    "uniq = np.loadtxt(i.uMap_path.value)\n",
    "df_diff = pd.DataFrame(Diff, columns = ['X','Y','Z'])\n",
    "df_uniq = pd.DataFrame(uniq, columns = ['X','Y','Z'])"
   ]
  },
  {
   "cell_type": "code",
   "execution_count": 6,
   "id": "7c788535",
   "metadata": {
    "scrolled": true
   },
   "outputs": [
    {
     "data": {
      "application/vnd.jupyter.widget-view+json": {
       "model_id": "dbe3f7151a0a4abb94a9f865f8a8f5e9",
       "version_major": 2,
       "version_minor": 0
      },
      "text/plain": [
       "interactive(children=(FloatSlider(value=0.3, description='min1', max=1.0), FloatSlider(value=0.9, description=…"
      ]
     },
     "metadata": {},
     "output_type": "display_data"
    }
   ],
   "source": [
    "import matplotlib.gridspec as gridspec\n",
    "%matplotlib inline\n",
    "%config InlineBackend.figure_format = 'retina'  # high resolution\n",
    "\n",
    "A = i.pwd3.value+i.out_pref.value+\".png\"\n",
    "\n",
    "@widgets.interact(min1=(0, 1, 0.1), max1=(0, 1, 0.1), min2=(-1, 0, 0.1), max2=(-1, 0, 0.1), save=(0, 1), figsize_x=(5,15), figsize_y=(5,15))\n",
    "def update(min1=0.3, max1=0.9, min2=-0.9, max2=-0.3, save=0, figsize_x=8, figsize_y=8):\n",
    "    df_diff_A = df_diff[((df_diff['Z']>min1) & (df_diff['Z']<max1)) | ((df_diff['Z']< max2) & (df_diff['Z'] > min2)) ][['X','Y','Z']]\n",
    "    df_uniq_A = df_uniq[((df_uniq['Z']>min1) & (df_uniq['Z']<max1)) | ((df_uniq['Z']< max2) & (df_uniq['Z'] > min2)) ][['X','Y','Z']]\n",
    "    fig = plt.figure(figsize=(figsize_x,figsize_y))\n",
    "    spec = gridspec.GridSpec(ncols=1, nrows=2, hspace=0.3, figure=fig)\n",
    "    ax1 = fig.add_subplot(spec[0, 0])\n",
    "    ax2 = fig.add_subplot(spec[1, 0])\n",
    "\n",
    "    data = [df_diff_A, df_uniq_A]\n",
    "    axss = [ax1, ax2]\n",
    "    header = ['Differential Map', 'Unique Map']\n",
    "    for l, n, i in zip(data, axss, header):\n",
    "        X = n.scatter(l.X, l.Y, s=2, c=l.Z, cmap='coolwarm')\n",
    "        n.axis([0,1153, 0, 1153])\n",
    "        n.axis([df_diff[\"X\"].min(),df_diff[\"X\"].max() + 10, df_diff[\"Y\"].min(), df_diff[\"Y\"].max() + 10])\n",
    "        # n.legend(frameon=False)\n",
    "        n.set_title(i, fontsize=16, fontweight='bold')\n",
    "        n.set_xlabel('Residues', fontsize=14, fontweight='bold') \n",
    "        n.set_ylabel('Residues', fontsize=14, fontweight='bold')\n",
    "        \n",
    "        ## for setting up x-, y-ticks and ticklabels\n",
    "        if (df_diff[\"X\"].max() - df_diff[\"X\"].min() > 500):\n",
    "            n.set_xticks(np.arange(df_diff[\"X\"].min(),df_diff[\"X\"].max()+10,100))\n",
    "            n.set_xticklabels(np.arange(df_diff[\"X\"].min(),df_diff[\"X\"].max()+10,100), fontsize=12)\n",
    "        elif (df_diff[\"X\"].max() - df_diff[\"X\"].min() < 50):\n",
    "            n.set_xticks(np.arange(df_diff[\"X\"].min(),df_diff[\"X\"].max()+10,5))\n",
    "            n.set_xticklabels(np.arange(df_diff[\"X\"].min(),df_diff[\"X\"].max()+10,5), fontsize=12)\n",
    "        else:\n",
    "            n.set_xticks(np.arange(df_diff[\"X\"].min(),df_diff[\"X\"].max()+10,10))\n",
    "            n.set_xticklabels(np.arange(df_diff[\"X\"].min(),df_diff[\"X\"].max()+10,10), fontsize=12)\n",
    "        \n",
    "        if (df_diff[\"Y\"].max() - df_diff[\"Y\"].min() > 500):\n",
    "            n.set_xticks(np.arange(df_diff[\"Y\"].min(),df_diff[\"Y\"].max()+10,100))\n",
    "            n.set_xticklabels(np.arange(df_diff[\"Y\"].min(),df_diff[\"Y\"].max()+10,100), fontsize=12)\n",
    "        elif (df_diff[\"Y\"].max() - df_diff[\"Y\"].min() < 50):\n",
    "            n.set_xticks(np.arange(df_diff[\"Y\"].min(),df_diff[\"Y\"].max()+10,5))\n",
    "            n.set_xticklabels(np.arange(df_diff[\"Y\"].min(),df_diff[\"Y\"].max()+10,5), fontsize=12)\n",
    "        else:\n",
    "            n.set_xticks(np.arange(df_diff[\"Y\"].min(),df_diff[\"Y\"].max()+10,10))\n",
    "            n.set_xticklabels(np.arange(df_diff[\"Y\"].min(),df_diff[\"Y\"].max()+10,10), fontsize=12)\n",
    "        \n",
    "        plt.colorbar(X,ax=n)\n",
    "    plt.show()\n",
    "    if save == 1:\n",
    "        fig.savefig(A, dpi=300)\n"
   ]
  }
 ],
 "metadata": {
  "kernelspec": {
   "display_name": "Python 3 (ipykernel)",
   "language": "python",
   "name": "python3"
  },
  "language_info": {
   "codemirror_mode": {
    "name": "ipython",
    "version": 3
   },
   "file_extension": ".py",
   "mimetype": "text/x-python",
   "name": "python",
   "nbconvert_exporter": "python",
   "pygments_lexer": "ipython3",
   "version": "3.9.5"
  }
 },
 "nbformat": 4,
 "nbformat_minor": 5
}
